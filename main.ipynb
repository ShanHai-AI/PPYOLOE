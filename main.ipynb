{
 "cells": [
  {
   "cell_type": "markdown",
   "metadata": {
    "jupyter": {
     "outputs_hidden": false
    }
   },
   "source": [
    "# PPYOLOE\n",
    "PP-YOLOE是基于PP-YOLOv2的卓越的单阶段Anchor-free模型，超越了多种流行的YOLO模型。PP-YOLOE有一系列的模型，即s/m/l/x，可以通过width multiplier和depth multiplier配置。PP-YOLOE避免了使用诸如Deformable Convolution或者Matrix NMS之类的特殊算子，以使其能轻松地部署在多种多样的硬件上。\n",
    "\n",
    "根据PaddleDetection给出的云端模型性能对比，各模型结构和骨干网络的代表模型在COCO数据集上精度mAP和单卡Tesla V100上预测速度(FPS)对比图如下：\n",
    "\n",
    "![https://gitee.com/paddlepaddle/PaddleDetection/raw/develop/docs/images/fps_map.png](https://gitee.com/paddlepaddle/PaddleDetection/raw/develop/docs/images/fps_map.png)\n",
    "\n",
    "可以看出，PP-YOLOE真可谓是【又快又好】的典型！\n",
    "\n",
    "这还不够，PaddleDetection团队还提供了基于PP-YOLOE的各种垂类检测模型的配置文件和权重，供用户下载进行使用：\n",
    "\n",
    "| 场景 | 相关数据集 | 链接 |\n",
    "| :-: | :-: | :-: |\n",
    "| 行人检测 | CrowdHuman | [pphuman](https://gitee.com/paddlepaddle/PaddleDetection/blob/develop/configs/pphuman) |\n",
    "| 车辆检测 | BDD100K、UA-DETRAC | [ppvehicle](https://gitee.com/paddlepaddle/PaddleDetection/blob/develop/configs/ppvehicle) |\n",
    "| 小目标检测 | VisDrone | [visdrone](https://gitee.com/paddlepaddle/PaddleDetection/blob/develop/configs/visdrone) |"
   ]
  },
  {
   "cell_type": "markdown",
   "metadata": {},
   "source": [
    "本项目参考了**PPYOLOE：又快又好的小目标检测训练与部署实现**\n",
    "\n",
    "https://aistudio.baidu.com/aistudio/projectdetail/4435291?channelType=0&channel=0"
   ]
  },
  {
   "cell_type": "markdown",
   "metadata": {
    "jupyter": {
     "outputs_hidden": false
    }
   },
   "source": [
    "# 1 环境准备\n",
    "## 1.1 数据集准备\n",
    "数据集的分析和准备过程可参考博客\n",
    "[使用PPYOLOE训练目标检测](http://)\n"
   ]
  },
  {
   "cell_type": "markdown",
   "metadata": {
    "jupyter": {
     "outputs_hidden": false
    }
   },
   "source": [
    "1.**导入所需要的第三方库**"
   ]
  },
  {
   "cell_type": "code",
   "execution_count": 3,
   "metadata": {
    "collapsed": false,
    "execution": {
     "iopub.execute_input": "2023-03-20T06:40:36.503593Z",
     "iopub.status.busy": "2023-03-20T06:40:36.502831Z",
     "iopub.status.idle": "2023-03-20T06:40:36.515941Z",
     "shell.execute_reply": "2023-03-20T06:40:36.514555Z",
     "shell.execute_reply.started": "2023-03-20T06:40:36.503542Z"
    },
    "jupyter": {
     "outputs_hidden": false
    },
    "scrolled": true
   },
   "outputs": [],
   "source": [
    "# 调用一些需要的第三方库\n",
    "import numpy as np\n",
    "import pandas as pd\n",
    "import shutil\n",
    "import json\n",
    "import os\n",
    "import cv2\n",
    "import glob\n",
    "import matplotlib.pyplot as plt\n",
    "import matplotlib.patches as patches\n",
    "import seaborn as sns\n",
    "from matplotlib.font_manager import FontProperties\n",
    "from PIL import Image\n",
    "import random\n",
    "myfont = FontProperties(fname=r\"NotoSansCJKsc-Medium.otf\", size=12)\n",
    "plt.rcParams['figure.figsize'] = (12, 12)\n",
    "plt.rcParams['font.family']= myfont.get_family()\n",
    "plt.rcParams['font.sans-serif'] = myfont.get_name()\n",
    "plt.rcParams['axes.unicode_minus'] = False"
   ]
  },
  {
   "cell_type": "markdown",
   "metadata": {},
   "source": [
    "2.**安装paddlex**"
   ]
  },
  {
   "cell_type": "code",
   "execution_count": 4,
   "metadata": {
    "execution": {
     "iopub.execute_input": "2023-03-20T06:40:39.525861Z",
     "iopub.status.busy": "2023-03-20T06:40:39.525191Z",
     "iopub.status.idle": "2023-03-20T06:41:19.720689Z",
     "shell.execute_reply": "2023-03-20T06:41:19.719470Z",
     "shell.execute_reply.started": "2023-03-20T06:40:39.525819Z"
    },
    "scrolled": true
   },
   "outputs": [
    {
     "name": "stdout",
     "output_type": "stream",
     "text": [
      "Looking in indexes: https://pypi.tuna.tsinghua.edu.cn/simple\r\n",
      "Collecting paddlex\r\n",
      "  Downloading https://pypi.tuna.tsinghua.edu.cn/packages/ca/03/b401c6a34685aa698e7c2fbcfad029892cbfa4b562eaaa7722037fef86ed/paddlex-2.1.0-py3-none-any.whl (1.6 MB)\r\n",
      "\u001b[2K     \u001b[90m━━━━━━━━━━━━━━━━━━━━━━━━━━━━━━━━━━━━━━━━\u001b[0m \u001b[32m1.6/1.6 MB\u001b[0m \u001b[31m3.5 MB/s\u001b[0m eta \u001b[36m0:00:00\u001b[0m00:01\u001b[0m00:01\u001b[0m\r\n",
      "\u001b[?25hRequirement already satisfied: colorama in /opt/conda/envs/python35-paddle120-env/lib/python3.7/site-packages (from paddlex) (0.4.4)\r\n",
      "Requirement already satisfied: shapely>=1.7.0 in /opt/conda/envs/python35-paddle120-env/lib/python3.7/site-packages (from paddlex) (2.0.0)\r\n",
      "Requirement already satisfied: tqdm in /opt/conda/envs/python35-paddle120-env/lib/python3.7/site-packages (from paddlex) (4.64.1)\r\n",
      "Collecting paddleslim==2.2.1\r\n",
      "  Downloading https://pypi.tuna.tsinghua.edu.cn/packages/0b/dc/f46c4669d4cb35de23581a2380d55bf9d38bb6855aab1978fdb956d85da6/paddleslim-2.2.1-py3-none-any.whl (310 kB)\r\n",
      "\u001b[2K     \u001b[90m━━━━━━━━━━━━━━━━━━━━━━━━━━━━━━━━━━━━━━━\u001b[0m \u001b[32m310.9/310.9 kB\u001b[0m \u001b[31m3.2 MB/s\u001b[0m eta \u001b[36m0:00:00\u001b[0ma \u001b[36m0:00:01\u001b[0m\r\n",
      "\u001b[?25hRequirement already satisfied: flask-cors in /opt/conda/envs/python35-paddle120-env/lib/python3.7/site-packages (from paddlex) (3.0.8)\r\n",
      "Requirement already satisfied: opencv-python in /opt/conda/envs/python35-paddle120-env/lib/python3.7/site-packages (from paddlex) (4.6.0.66)\r\n",
      "Requirement already satisfied: scipy in /opt/conda/envs/python35-paddle120-env/lib/python3.7/site-packages (from paddlex) (1.6.3)\r\n",
      "Requirement already satisfied: chardet in /opt/conda/envs/python35-paddle120-env/lib/python3.7/site-packages (from paddlex) (3.0.4)\r\n",
      "Requirement already satisfied: openpyxl in /opt/conda/envs/python35-paddle120-env/lib/python3.7/site-packages (from paddlex) (3.0.5)\r\n",
      "Requirement already satisfied: pyyaml in /opt/conda/envs/python35-paddle120-env/lib/python3.7/site-packages (from paddlex) (5.1.2)\r\n",
      "Collecting pycocotools\r\n",
      "  Downloading https://pypi.tuna.tsinghua.edu.cn/packages/ef/c6/90220be3b39fbc4cbd203775ca47dd8dc97fae06fbd2b500637395621b7c/pycocotools-2.0.6.tar.gz (24 kB)\r\n",
      "  Installing build dependencies ... \u001b[?25ldone\r\n",
      "\u001b[?25h  Getting requirements to build wheel ... \u001b[?25ldone\r\n",
      "\u001b[?25h  Preparing metadata (pyproject.toml) ... \u001b[?25ldone\r\n",
      "\u001b[?25hCollecting scikit-learn==0.23.2\r\n",
      "  Downloading https://pypi.tuna.tsinghua.edu.cn/packages/f4/cb/64623369f348e9bfb29ff898a57ac7c91ed4921f228e9726546614d63ccb/scikit_learn-0.23.2-cp37-cp37m-manylinux1_x86_64.whl (6.8 MB)\r\n",
      "\u001b[2K     \u001b[90m━━━━━━━━━━━━━━━━━━━━━━━━━━━━━━━━━━━━━━━━\u001b[0m \u001b[32m6.8/6.8 MB\u001b[0m \u001b[31m2.0 MB/s\u001b[0m eta \u001b[36m0:00:00\u001b[0m00:01\u001b[0m00:01\u001b[0m\r\n",
      "\u001b[?25hCollecting lap\r\n",
      "  Downloading https://pypi.tuna.tsinghua.edu.cn/packages/bf/64/d9fb6a75b15e783952b2fec6970f033462e67db32dc43dfbb404c14e91c2/lap-0.4.0.tar.gz (1.5 MB)\r\n",
      "\u001b[2K     \u001b[90m━━━━━━━━━━━━━━━━━━━━━━━━━━━━━━━━━━━━━━━━\u001b[0m \u001b[32m1.5/1.5 MB\u001b[0m \u001b[31m2.4 MB/s\u001b[0m eta \u001b[36m0:00:00\u001b[0ma \u001b[36m0:00:01\u001b[0m\r\n",
      "\u001b[?25h  Preparing metadata (setup.py) ... \u001b[?25ldone\r\n",
      "\u001b[?25hRequirement already satisfied: visualdl>=2.2.2 in /opt/conda/envs/python35-paddle120-env/lib/python3.7/site-packages (from paddlex) (2.4.0)\r\n",
      "Collecting motmetrics\r\n",
      "  Downloading https://pypi.tuna.tsinghua.edu.cn/packages/2f/d9/7b77e1e2db80b6f8133065ffbccdaa3c911df5f95a7af30829fcaa10a3d7/motmetrics-1.4.0-py3-none-any.whl (161 kB)\r\n",
      "\u001b[2K     \u001b[90m━━━━━━━━━━━━━━━━━━━━━━━━━━━━━━━━━━━━━━━\u001b[0m \u001b[32m161.5/161.5 kB\u001b[0m \u001b[31m1.1 MB/s\u001b[0m eta \u001b[36m0:00:00\u001b[0ma \u001b[36m0:00:01\u001b[0m\r\n",
      "\u001b[?25hRequirement already satisfied: pyzmq in /opt/conda/envs/python35-paddle120-env/lib/python3.7/site-packages (from paddleslim==2.2.1->paddlex) (23.2.1)\r\n",
      "Requirement already satisfied: pillow in /opt/conda/envs/python35-paddle120-env/lib/python3.7/site-packages (from paddleslim==2.2.1->paddlex) (8.2.0)\r\n",
      "Requirement already satisfied: matplotlib in /opt/conda/envs/python35-paddle120-env/lib/python3.7/site-packages (from paddleslim==2.2.1->paddlex) (2.2.3)\r\n",
      "Requirement already satisfied: threadpoolctl>=2.0.0 in /opt/conda/envs/python35-paddle120-env/lib/python3.7/site-packages (from scikit-learn==0.23.2->paddlex) (2.1.0)\r\n",
      "Requirement already satisfied: joblib>=0.11 in /opt/conda/envs/python35-paddle120-env/lib/python3.7/site-packages (from scikit-learn==0.23.2->paddlex) (0.14.1)\r\n",
      "Requirement already satisfied: numpy>=1.13.3 in /opt/conda/envs/python35-paddle120-env/lib/python3.7/site-packages (from scikit-learn==0.23.2->paddlex) (1.19.5)\r\n",
      "Requirement already satisfied: requests in /opt/conda/envs/python35-paddle120-env/lib/python3.7/site-packages (from visualdl>=2.2.2->paddlex) (2.24.0)\r\n",
      "Requirement already satisfied: Flask-Babel>=1.0.0 in /opt/conda/envs/python35-paddle120-env/lib/python3.7/site-packages (from visualdl>=2.2.2->paddlex) (1.0.0)\r\n",
      "Requirement already satisfied: six>=1.14.0 in /opt/conda/envs/python35-paddle120-env/lib/python3.7/site-packages (from visualdl>=2.2.2->paddlex) (1.16.0)\r\n",
      "Requirement already satisfied: pandas in /opt/conda/envs/python35-paddle120-env/lib/python3.7/site-packages (from visualdl>=2.2.2->paddlex) (1.1.5)\r\n",
      "Requirement already satisfied: bce-python-sdk in /opt/conda/envs/python35-paddle120-env/lib/python3.7/site-packages (from visualdl>=2.2.2->paddlex) (0.8.53)\r\n",
      "Requirement already satisfied: flask>=1.1.1 in /opt/conda/envs/python35-paddle120-env/lib/python3.7/site-packages (from visualdl>=2.2.2->paddlex) (1.1.1)\r\n",
      "Requirement already satisfied: protobuf>=3.11.0 in /opt/conda/envs/python35-paddle120-env/lib/python3.7/site-packages (from visualdl>=2.2.2->paddlex) (3.20.0)\r\n",
      "Collecting xmltodict>=0.12.0\r\n",
      "  Downloading https://pypi.tuna.tsinghua.edu.cn/packages/94/db/fd0326e331726f07ff7f40675cd86aa804bfd2e5016c727fa761c934990e/xmltodict-0.13.0-py2.py3-none-any.whl (10.0 kB)\r\n",
      "Requirement already satisfied: et-xmlfile in /opt/conda/envs/python35-paddle120-env/lib/python3.7/site-packages (from openpyxl->paddlex) (1.0.1)\r\n",
      "Requirement already satisfied: jdcal in /opt/conda/envs/python35-paddle120-env/lib/python3.7/site-packages (from openpyxl->paddlex) (1.4.1)\r\n",
      "Requirement already satisfied: Werkzeug>=0.15 in /opt/conda/envs/python35-paddle120-env/lib/python3.7/site-packages (from flask>=1.1.1->visualdl>=2.2.2->paddlex) (0.16.0)\r\n",
      "Requirement already satisfied: click>=5.1 in /opt/conda/envs/python35-paddle120-env/lib/python3.7/site-packages (from flask>=1.1.1->visualdl>=2.2.2->paddlex) (8.0.4)\r\n",
      "Requirement already satisfied: Jinja2>=2.10.1 in /opt/conda/envs/python35-paddle120-env/lib/python3.7/site-packages (from flask>=1.1.1->visualdl>=2.2.2->paddlex) (3.0.0)\r\n",
      "Requirement already satisfied: itsdangerous>=0.24 in /opt/conda/envs/python35-paddle120-env/lib/python3.7/site-packages (from flask>=1.1.1->visualdl>=2.2.2->paddlex) (1.1.0)\r\n",
      "Requirement already satisfied: Babel>=2.3 in /opt/conda/envs/python35-paddle120-env/lib/python3.7/site-packages (from Flask-Babel>=1.0.0->visualdl>=2.2.2->paddlex) (2.8.0)\r\n",
      "Requirement already satisfied: pytz in /opt/conda/envs/python35-paddle120-env/lib/python3.7/site-packages (from Flask-Babel>=1.0.0->visualdl>=2.2.2->paddlex) (2019.3)\r\n",
      "Requirement already satisfied: cycler>=0.10 in /opt/conda/envs/python35-paddle120-env/lib/python3.7/site-packages (from matplotlib->paddleslim==2.2.1->paddlex) (0.10.0)\r\n",
      "Requirement already satisfied: kiwisolver>=1.0.1 in /opt/conda/envs/python35-paddle120-env/lib/python3.7/site-packages (from matplotlib->paddleslim==2.2.1->paddlex) (1.1.0)\r\n",
      "Requirement already satisfied: python-dateutil>=2.1 in /opt/conda/envs/python35-paddle120-env/lib/python3.7/site-packages (from matplotlib->paddleslim==2.2.1->paddlex) (2.8.2)\r\n",
      "Requirement already satisfied: pyparsing!=2.0.4,!=2.1.2,!=2.1.6,>=2.0.1 in /opt/conda/envs/python35-paddle120-env/lib/python3.7/site-packages (from matplotlib->paddleslim==2.2.1->paddlex) (3.0.9)\r\n",
      "Requirement already satisfied: future>=0.6.0 in /opt/conda/envs/python35-paddle120-env/lib/python3.7/site-packages (from bce-python-sdk->visualdl>=2.2.2->paddlex) (0.18.0)\r\n",
      "Requirement already satisfied: pycryptodome>=3.8.0 in /opt/conda/envs/python35-paddle120-env/lib/python3.7/site-packages (from bce-python-sdk->visualdl>=2.2.2->paddlex) (3.9.9)\r\n",
      "Requirement already satisfied: urllib3!=1.25.0,!=1.25.1,<1.26,>=1.21.1 in /opt/conda/envs/python35-paddle120-env/lib/python3.7/site-packages (from requests->visualdl>=2.2.2->paddlex) (1.25.6)\r\n",
      "Requirement already satisfied: idna<3,>=2.5 in /opt/conda/envs/python35-paddle120-env/lib/python3.7/site-packages (from requests->visualdl>=2.2.2->paddlex) (2.8)\r\n",
      "Requirement already satisfied: certifi>=2017.4.17 in /opt/conda/envs/python35-paddle120-env/lib/python3.7/site-packages (from requests->visualdl>=2.2.2->paddlex) (2019.9.11)\r\n",
      "Requirement already satisfied: importlib-metadata in /opt/conda/envs/python35-paddle120-env/lib/python3.7/site-packages (from click>=5.1->flask>=1.1.1->visualdl>=2.2.2->paddlex) (4.2.0)\r\n",
      "Requirement already satisfied: MarkupSafe>=2.0.0rc2 in /opt/conda/envs/python35-paddle120-env/lib/python3.7/site-packages (from Jinja2>=2.10.1->flask>=1.1.1->visualdl>=2.2.2->paddlex) (2.0.1)\r\n",
      "Requirement already satisfied: setuptools in /opt/conda/envs/python35-paddle120-env/lib/python3.7/site-packages (from kiwisolver>=1.0.1->matplotlib->paddleslim==2.2.1->paddlex) (56.2.0)\r\n",
      "Requirement already satisfied: typing-extensions>=3.6.4 in /opt/conda/envs/python35-paddle120-env/lib/python3.7/site-packages (from importlib-metadata->click>=5.1->flask>=1.1.1->visualdl>=2.2.2->paddlex) (4.3.0)\r\n",
      "Requirement already satisfied: zipp>=0.5 in /opt/conda/envs/python35-paddle120-env/lib/python3.7/site-packages (from importlib-metadata->click>=5.1->flask>=1.1.1->visualdl>=2.2.2->paddlex) (3.8.1)\r\n",
      "Building wheels for collected packages: lap, pycocotools\r\n",
      "  Building wheel for lap (setup.py) ... \u001b[?25ldone\r\n",
      "\u001b[?25h  Created wheel for lap: filename=lap-0.4.0-cp37-cp37m-linux_x86_64.whl size=1593874 sha256=5325d4a64186f6dacb6ae5aa168f5ae2c2894f4451452e7a6ea96f249bc92a49\r\n",
      "  Stored in directory: /home/aistudio/.cache/pip/wheels/5c/d0/d2/e331d17a999666b1e2eb99743cfa1742629f9d26c55c657001\r\n",
      "  Building wheel for pycocotools (pyproject.toml) ... \u001b[?25ldone\r\n",
      "\u001b[?25h  Created wheel for pycocotools: filename=pycocotools-2.0.6-cp37-cp37m-linux_x86_64.whl size=275106 sha256=4b7a406fceb2acda2d166d6cf91914cc95ca0c969a5f6290cd897a50d4da94b8\r\n",
      "  Stored in directory: /home/aistudio/.cache/pip/wheels/f8/94/70/046149e666bd5812b7de6b87a28dcef238f7162f4108e0b3d8\r\n",
      "Successfully built lap pycocotools\r\n",
      "Installing collected packages: lap, xmltodict, scikit-learn, pycocotools, paddleslim, motmetrics, paddlex\r\n",
      "  Attempting uninstall: scikit-learn\r\n",
      "    Found existing installation: scikit-learn 0.24.2\r\n",
      "    Uninstalling scikit-learn-0.24.2:\r\n",
      "      Successfully uninstalled scikit-learn-0.24.2\r\n",
      "Successfully installed lap-0.4.0 motmetrics-1.4.0 paddleslim-2.2.1 paddlex-2.1.0 pycocotools-2.0.6 scikit-learn-0.23.2 xmltodict-0.13.0\r\n",
      "\r\n",
      "\u001b[1m[\u001b[0m\u001b[34;49mnotice\u001b[0m\u001b[1;39;49m]\u001b[0m\u001b[39;49m A new release of pip available: \u001b[0m\u001b[31;49m22.1.2\u001b[0m\u001b[39;49m -> \u001b[0m\u001b[32;49m23.0.1\u001b[0m\r\n",
      "\u001b[1m[\u001b[0m\u001b[34;49mnotice\u001b[0m\u001b[1;39;49m]\u001b[0m\u001b[39;49m To update, run: \u001b[0m\u001b[32;49mpip install --upgrade pip\u001b[0m\r\n"
     ]
    }
   ],
   "source": [
    "# 引入PaddleX\n",
    "!pip install paddlex"
   ]
  },
  {
   "cell_type": "markdown",
   "metadata": {},
   "source": [
    "3.**创建数据集目录** \n",
    "\n",
    "将标注的图像数据上传到 **MyDataset/JPEGImages** 目录下。\n",
    "\n",
    "将coco格式数据标签**annotations.json**放到**MyDataset**目录下。"
   ]
  },
  {
   "cell_type": "code",
   "execution_count": 5,
   "metadata": {
    "execution": {
     "iopub.execute_input": "2023-03-20T06:41:23.887963Z",
     "iopub.status.busy": "2023-03-20T06:41:23.887075Z",
     "iopub.status.idle": "2023-03-20T06:41:24.377138Z",
     "shell.execute_reply": "2023-03-20T06:41:24.375949Z",
     "shell.execute_reply.started": "2023-03-20T06:41:23.887910Z"
    },
    "scrolled": true
   },
   "outputs": [],
   "source": [
    "# 组织数据目录\n",
    "!mkdir MyDataset\n",
    "!mkdir MyDataset/JPEGImages"
   ]
  },
  {
   "cell_type": "markdown",
   "metadata": {},
   "source": [
    "4.**按比例切分数据集**"
   ]
  },
  {
   "cell_type": "code",
   "execution_count": 6,
   "metadata": {
    "execution": {
     "iopub.execute_input": "2023-03-20T06:46:04.291710Z",
     "iopub.status.busy": "2023-03-20T06:46:04.290050Z",
     "iopub.status.idle": "2023-03-20T06:46:09.769036Z",
     "shell.execute_reply": "2023-03-20T06:46:09.767617Z",
     "shell.execute_reply.started": "2023-03-20T06:46:04.291649Z"
    },
    "scrolled": true
   },
   "outputs": [
    {
     "name": "stdout",
     "output_type": "stream",
     "text": [
      "\u001b[32m[03-20 14:46:06 MainThread @logger.py:242]\u001b[0m Argv: /opt/conda/envs/python35-paddle120-env/bin/paddlex --split_dataset --format COCO --dataset_dir /home/aistudio/MyDataset --val_value 0.1 --test_value 0.0\r\n",
      "\u001b[0m\u001b[33m[03-20 14:46:06 MainThread @utils.py:79]\u001b[0m \u001b[5m\u001b[33mWRN\u001b[0m paddlepaddle version: 2.3.2. The dynamic graph version of PARL is under development, not fully tested and supported\r\n",
      "\u001b[0m/opt/conda/envs/python35-paddle120-env/lib/python3.7/site-packages/parl/remote/communication.py:38: FutureWarning: 'pyarrow.default_serialization_context' is deprecated as of 2.0.0 and will be removed in a future version. Use pickle or the pyarrow IPC functionality instead.\r\n",
      "  context = pyarrow.default_serialization_context()\r\n",
      "\u001b[0m/opt/conda/envs/python35-paddle120-env/lib/python3.7/site-packages/matplotlib/__init__.py:107: DeprecationWarning: Using or importing the ABCs from 'collections' instead of from 'collections.abc' is deprecated, and in 3.8 it will stop working\r\n",
      "  from collections import MutableMapping\r\n",
      "\u001b[0m/opt/conda/envs/python35-paddle120-env/lib/python3.7/site-packages/matplotlib/rcsetup.py:20: DeprecationWarning: Using or importing the ABCs from 'collections' instead of from 'collections.abc' is deprecated, and in 3.8 it will stop working\r\n",
      "  from collections import Iterable, Mapping\r\n",
      "\u001b[0m/opt/conda/envs/python35-paddle120-env/lib/python3.7/site-packages/matplotlib/colors.py:53: DeprecationWarning: Using or importing the ABCs from 'collections' instead of from 'collections.abc' is deprecated, and in 3.8 it will stop working\r\n",
      "  from collections import Sized\r\n",
      "\u001b[0m2023-03-20 14:46:07,315-WARNING: type object 'QuantizationTransformPass' has no attribute '_supported_quantizable_op_type'\r\n",
      "\u001b[0m2023-03-20 14:46:07,315-WARNING: If you want to use training-aware and post-training quantization, please use Paddle >= 1.8.4 or develop version\r\n",
      "\u001b[0m2023-03-20 14:46:08 [INFO]\tDataset split starts...\u001b[0m\r\n",
      "\u001b[0mloading annotations into memory...\u001b[0m\r\n",
      "\u001b[0mDone (t=0.00s)\u001b[0m\r\n",
      "\u001b[0mcreating index...\u001b[0m\r\n",
      "\u001b[0mindex created!\u001b[0m\r\n",
      "\u001b[0m2023-03-20 14:46:08 [INFO]\tDataset split done.\u001b[0m\r\n",
      "\u001b[0m2023-03-20 14:46:08 [INFO]\tTrain samples: 78\u001b[0m\r\n",
      "\u001b[0m2023-03-20 14:46:08 [INFO]\tEval samples: 8\u001b[0m\r\n",
      "\u001b[0m2023-03-20 14:46:08 [INFO]\tTest samples: 0\u001b[0m\r\n",
      "\u001b[0m2023-03-20 14:46:08 [INFO]\tSplit files saved in /home/aistudio/MyDataset\u001b[0m\r\n",
      "\u001b[0m\u001b[0m"
     ]
    }
   ],
   "source": [
    "# 按比例切分数据集\n",
    "!paddlex --split_dataset --format COCO --dataset_dir /home/aistudio/MyDataset --val_value 0.1 --test_value 0.0"
   ]
  },
  {
   "cell_type": "markdown",
   "metadata": {},
   "source": [
    "## 1.2 训练环境准备\n",
    "\n",
    "由于PP-YOLOE还在快速迭代中，因此，对框架的稳定性有一定的要求，PaddlePaddle的框架不要选择最新版。本文使用的单卡训练环境如下：\n",
    "\n",
    "- 框架版本：PaddlePaddle 2.2.2\n",
    "- CUDA Version: 11.2\n",
    "- 模型库版本：PaddleDetection(develop分支)\n",
    "\n",
    "选择PaddleDetection(develop分支)的原因是，PP-YOLOE的垂类模型迭代更快些，选择空间更大。"
   ]
  },
  {
   "cell_type": "markdown",
   "metadata": {},
   "source": [
    "5. **git PaddleDetection**代码"
   ]
  },
  {
   "cell_type": "code",
   "execution_count": 7,
   "metadata": {
    "execution": {
     "iopub.execute_input": "2023-03-20T06:46:15.327245Z",
     "iopub.status.busy": "2023-03-20T06:46:15.326533Z",
     "iopub.status.idle": "2023-03-20T06:49:15.436205Z",
     "shell.execute_reply": "2023-03-20T06:49:15.434955Z",
     "shell.execute_reply.started": "2023-03-20T06:46:15.327201Z"
    },
    "scrolled": true
   },
   "outputs": [
    {
     "name": "stdout",
     "output_type": "stream",
     "text": [
      "正克隆到 'PaddleDetection'...\r\n",
      "remote: Enumerating objects: 256938, done.\u001b[K\r\n",
      "remote: Counting objects: 100% (1935/1935), done.\u001b[K\r\n",
      "remote: Compressing objects: 100% (1131/1131), done.\u001b[K\r\n",
      "remote: Total 256938 (delta 1187), reused 1465 (delta 798), pack-reused 255003\u001b[K\r\n",
      "接收对象中: 100% (256938/256938), 413.52 MiB | 6.11 MiB/s, 完成.\r\n",
      "处理 delta 中: 100% (210215/210215), 完成.\r\n",
      "检查连接... 完成。\r\n"
     ]
    }
   ],
   "source": [
    "!git clone https://gitee.com/paddlepaddle/PaddleDetection.git"
   ]
  },
  {
   "cell_type": "markdown",
   "metadata": {},
   "source": [
    "6. **进入PaddleDetection目录**"
   ]
  },
  {
   "cell_type": "code",
   "execution_count": 8,
   "metadata": {
    "execution": {
     "iopub.execute_input": "2023-03-20T06:49:17.994946Z",
     "iopub.status.busy": "2023-03-20T06:49:17.994045Z",
     "iopub.status.idle": "2023-03-20T06:49:18.402035Z",
     "shell.execute_reply": "2023-03-20T06:49:18.400816Z",
     "shell.execute_reply.started": "2023-03-20T06:49:17.994892Z"
    },
    "scrolled": true
   },
   "outputs": [
    {
     "name": "stdout",
     "output_type": "stream",
     "text": [
      "/home/aistudio/PaddleDetection\r\n",
      "分支 develop 设置为跟踪来自 origin 的远程分支 develop。\r\n",
      "切换到一个新分支 'develop'\r\n"
     ]
    }
   ],
   "source": [
    "%cd PaddleDetection\n",
    "# 切换到develop分支\n",
    "!git checkout develop"
   ]
  },
  {
   "cell_type": "markdown",
   "metadata": {},
   "source": [
    "# 2 模型训练\n",
    "## 2.1 模型选型\n",
    "\n",
    "PaddleDetection团队提供了针对VisDrone-DET小目标数航拍场景的基于PP-YOLOE的检测模型，本项目使用这些模型作为预训练模型。\n",
    "\n",
    "本项目以`PP-YOLOE-Alpha-largesize-l`为例，展示训练和部署过程。\n"
   ]
  },
  {
   "cell_type": "markdown",
   "metadata": {},
   "source": [
    "## 2.2 模型训练"
   ]
  },
  {
   "cell_type": "markdown",
   "metadata": {},
   "source": [
    "7. **根据需求修改配置文件，比如检测的目标类别数**\n",
    "\n",
    "进入/home/aistudio/config_file/目录下，修改visdrone_detection.yml中**num_classes**参数\n"
   ]
  },
  {
   "cell_type": "code",
   "execution_count": 9,
   "metadata": {
    "execution": {
     "iopub.execute_input": "2023-03-20T06:49:43.725738Z",
     "iopub.status.busy": "2023-03-20T06:49:43.724958Z",
     "iopub.status.idle": "2023-03-20T06:49:45.928540Z",
     "shell.execute_reply": "2023-03-20T06:49:45.927240Z",
     "shell.execute_reply.started": "2023-03-20T06:49:43.725684Z"
    },
    "scrolled": true
   },
   "outputs": [],
   "source": [
    "# 训练配置文件覆盖\n",
    "!cd configs\n",
    "!mkdir configs/visdrone/\n",
    "!cd ../\n",
    "!cp ../config_file/visdrone/ppyoloe_crn_l_80e_visdrone.yml configs/visdrone/ppyoloe_crn_l_80e_visdrone.yml\n",
    "!cp ../config_file/visdrone/ppyoloe_crn_l_alpha_largesize_80e_visdrone.yml configs/visdrone/ppyoloe_crn_l_alpha_largesize_80e_visdrone.yml\n",
    "!cp ../config_file/visdrone_detection.yml configs/datasets/visdrone_detection.yml\n",
    "!cp ../config_file/optimizer_300e.yml configs/ppyoloe/_base_/optimizer_300e.yml\n",
    "!cp ../config_file/ppyoloe_crn.yml configs/ppyoloe/_base_/ppyoloe_crn.yml\n",
    "!cp ../config_file/ppyoloe_reader.yml configs/ppyoloe/_base_/ppyoloe_reader.yml"
   ]
  },
  {
   "cell_type": "markdown",
   "metadata": {},
   "source": [
    "8. **开始训练**\n",
    "\n",
    "mAP 不再增长时，即可停止训练。"
   ]
  },
  {
   "cell_type": "code",
   "execution_count": 11,
   "metadata": {
    "execution": {
     "iopub.execute_input": "2023-03-20T06:52:38.797166Z",
     "iopub.status.busy": "2023-03-20T06:52:38.796396Z",
     "iopub.status.idle": "2023-03-20T06:52:39.807095Z",
     "shell.execute_reply": "2023-03-20T06:52:39.805872Z",
     "shell.execute_reply.started": "2023-03-20T06:52:38.797097Z"
    },
    "scrolled": true,
    "tags": []
   },
   "outputs": [
    {
     "name": "stdout",
     "output_type": "stream",
     "text": [
      "^C\r\n",
      "Error: Can not import avx core while this file exists: /opt/conda/envs/python35-paddle120-env/lib/python3.7/site-packages/paddle/fluid/core_avx.so\r\n",
      "Traceback (most recent call last):\r\n",
      "  File \"tools/train.py\", line 30, in <module>\r\n",
      "    import paddle\r\n",
      "  File \"/opt/conda/envs/python35-paddle120-env/lib/python3.7/site-packages/paddle/__init__.py\", line 25, in <module>\r\n",
      "    from .framework import monkey_patch_variable\r\n",
      "  File \"/opt/conda/envs/python35-paddle120-env/lib/python3.7/site-packages/paddle/framework/__init__.py\", line 17, in <module>\r\n",
      "    from . import random  # noqa: F401\r\n",
      "  File \"/opt/conda/envs/python35-paddle120-env/lib/python3.7/site-packages/paddle/framework/random.py\", line 16, in <module>\r\n",
      "    import paddle.fluid as fluid\r\n",
      "  File \"/opt/conda/envs/python35-paddle120-env/lib/python3.7/site-packages/paddle/fluid/__init__.py\", line 36, in <module>\r\n",
      "    from . import framework\r\n",
      "  File \"/opt/conda/envs/python35-paddle120-env/lib/python3.7/site-packages/paddle/fluid/framework.py\", line 37, in <module>\r\n",
      "    from . import core\r\n",
      "  File \"/opt/conda/envs/python35-paddle120-env/lib/python3.7/site-packages/paddle/fluid/core.py\", line 298, in <module>\r\n",
      "    raise e\r\n",
      "  File \"/opt/conda/envs/python35-paddle120-env/lib/python3.7/site-packages/paddle/fluid/core.py\", line 256, in <module>\r\n",
      "    from . import core_avx\r\n",
      "ImportError: KeyboardInterrupt: \r\n"
     ]
    }
   ],
   "source": [
    "# 开始训练\n",
    "!python tools/train.py -c configs/visdrone/ppyoloe_crn_l_alpha_largesize_80e_visdrone.yml --use_vdl=True --vdl_log_dir=./visdrone/ --eval"
   ]
  },
  {
   "cell_type": "markdown",
   "metadata": {},
   "source": [
    "9. **训练完成后评估模型**"
   ]
  },
  {
   "cell_type": "code",
   "execution_count": 12,
   "metadata": {
    "execution": {
     "iopub.execute_input": "2023-03-20T06:52:43.421907Z",
     "iopub.status.busy": "2023-03-20T06:52:43.421117Z",
     "iopub.status.idle": "2023-03-20T06:52:54.745752Z",
     "shell.execute_reply": "2023-03-20T06:52:54.744519Z",
     "shell.execute_reply.started": "2023-03-20T06:52:43.421857Z"
    },
    "scrolled": true
   },
   "outputs": [
    {
     "name": "stdout",
     "output_type": "stream",
     "text": [
      "/opt/conda/envs/python35-paddle120-env/lib/python3.7/site-packages/matplotlib/__init__.py:107: DeprecationWarning: Using or importing the ABCs from 'collections' instead of from 'collections.abc' is deprecated, and in 3.8 it will stop working\r\n",
      "  from collections import MutableMapping\r\n",
      "/opt/conda/envs/python35-paddle120-env/lib/python3.7/site-packages/matplotlib/rcsetup.py:20: DeprecationWarning: Using or importing the ABCs from 'collections' instead of from 'collections.abc' is deprecated, and in 3.8 it will stop working\r\n",
      "  from collections import Iterable, Mapping\r\n",
      "/opt/conda/envs/python35-paddle120-env/lib/python3.7/site-packages/matplotlib/colors.py:53: DeprecationWarning: Using or importing the ABCs from 'collections' instead of from 'collections.abc' is deprecated, and in 3.8 it will stop working\r\n",
      "  from collections import Sized\r\n",
      "Warning: import ppdet from source directory without installing, run 'python setup.py install' to install ppdet firstly\r\n",
      "W0320 14:52:46.793298  8603 gpu_resources.cc:61] Please NOTE: device: 0, GPU Compute Capability: 7.0, Driver API Version: 11.2, Runtime API Version: 11.2\r\n",
      "W0320 14:52:46.798549  8603 gpu_resources.cc:91] device: 0, cuDNN Version: 8.2.\r\n",
      "loading annotations into memory...\r\n",
      "Done (t=0.00s)\r\n",
      "creating index...\r\n",
      "index created!\r\n",
      "[03/20 14:52:48] ppdet.data.source.coco INFO: Load [8 samples valid, 0 samples invalid] in file /home/aistudio/MyDataset/val.json.\r\n",
      "[03/20 14:52:49] ppdet.utils.checkpoint INFO: Finish loading model weights: output/ppyoloe_crn_l_alpha_largesize_80e_visdrone/best_model.pdparams\r\n",
      "[03/20 14:52:51] ppdet.engine INFO: Eval iter: 0\r\n",
      "[03/20 14:52:52] ppdet.metrics.metrics INFO: The bbox result is saved to bbox.json.\r\n",
      "loading annotations into memory...\r\n",
      "Done (t=0.00s)\r\n",
      "creating index...\r\n",
      "index created!\r\n",
      "[03/20 14:52:52] ppdet.metrics.coco_utils INFO: Start evaluate...\r\n",
      "Loading and preparing results...\r\n",
      "DONE (t=0.04s)\r\n",
      "creating index...\r\n",
      "index created!\r\n",
      "Running per image evaluation...\r\n",
      "Evaluate annotation type *bbox*\r\n",
      "DONE (t=0.07s).\r\n",
      "Accumulating evaluation results...\r\n",
      "DONE (t=0.08s).\r\n",
      " Average Precision  (AP) @[ IoU=0.50:0.95 | area=   all | maxDets=100 ] = 0.219\r\n",
      " Average Precision  (AP) @[ IoU=0.50      | area=   all | maxDets=100 ] = 0.438\r\n",
      " Average Precision  (AP) @[ IoU=0.75      | area=   all | maxDets=100 ] = 0.264\r\n",
      " Average Precision  (AP) @[ IoU=0.50:0.95 | area= small | maxDets=100 ] = -1.000\r\n",
      " Average Precision  (AP) @[ IoU=0.50:0.95 | area=medium | maxDets=100 ] = 0.190\r\n",
      " Average Precision  (AP) @[ IoU=0.50:0.95 | area= large | maxDets=100 ] = 0.247\r\n",
      " Average Recall     (AR) @[ IoU=0.50:0.95 | area=   all | maxDets=  1 ] = 0.103\r\n",
      " Average Recall     (AR) @[ IoU=0.50:0.95 | area=   all | maxDets= 10 ] = 0.280\r\n",
      " Average Recall     (AR) @[ IoU=0.50:0.95 | area=   all | maxDets=100 ] = 0.280\r\n",
      " Average Recall     (AR) @[ IoU=0.50:0.95 | area= small | maxDets=100 ] = -1.000\r\n",
      " Average Recall     (AR) @[ IoU=0.50:0.95 | area=medium | maxDets=100 ] = 0.271\r\n",
      " Average Recall     (AR) @[ IoU=0.50:0.95 | area= large | maxDets=100 ] = 0.287\r\n",
      "[03/20 14:52:53] ppdet.engine INFO: Total sample number: 8, average FPS: 2.427405528704095\r\n"
     ]
    }
   ],
   "source": [
    "# 模型评估\n",
    "!python tools/eval.py -c configs/visdrone/ppyoloe_crn_l_alpha_largesize_80e_visdrone.yml -o weights=output/ppyoloe_crn_l_alpha_largesize_80e_visdrone/best_model.pdparams"
   ]
  },
  {
   "cell_type": "markdown",
   "metadata": {},
   "source": [
    "## 2.3 预测推理"
   ]
  },
  {
   "cell_type": "code",
   "execution_count": 13,
   "metadata": {
    "execution": {
     "iopub.execute_input": "2023-03-20T06:52:58.544210Z",
     "iopub.status.busy": "2023-03-20T06:52:58.543478Z",
     "iopub.status.idle": "2023-03-20T06:53:07.325635Z",
     "shell.execute_reply": "2023-03-20T06:53:07.324161Z",
     "shell.execute_reply.started": "2023-03-20T06:52:58.544158Z"
    },
    "scrolled": true
   },
   "outputs": [
    {
     "name": "stdout",
     "output_type": "stream",
     "text": [
      "/opt/conda/envs/python35-paddle120-env/lib/python3.7/site-packages/matplotlib/__init__.py:107: DeprecationWarning: Using or importing the ABCs from 'collections' instead of from 'collections.abc' is deprecated, and in 3.8 it will stop working\r\n",
      "  from collections import MutableMapping\r\n",
      "/opt/conda/envs/python35-paddle120-env/lib/python3.7/site-packages/matplotlib/rcsetup.py:20: DeprecationWarning: Using or importing the ABCs from 'collections' instead of from 'collections.abc' is deprecated, and in 3.8 it will stop working\r\n",
      "  from collections import Iterable, Mapping\r\n",
      "/opt/conda/envs/python35-paddle120-env/lib/python3.7/site-packages/matplotlib/colors.py:53: DeprecationWarning: Using or importing the ABCs from 'collections' instead of from 'collections.abc' is deprecated, and in 3.8 it will stop working\r\n",
      "  from collections import Sized\r\n",
      "Warning: import ppdet from source directory without installing, run 'python setup.py install' to install ppdet firstly\r\n",
      "W0320 14:53:01.727855  8750 gpu_resources.cc:61] Please NOTE: device: 0, GPU Compute Capability: 7.0, Driver API Version: 11.2, Runtime API Version: 11.2\r\n",
      "W0320 14:53:01.733305  8750 gpu_resources.cc:91] device: 0, cuDNN Version: 8.2.\r\n",
      "[03/20 14:53:04] ppdet.utils.checkpoint INFO: Finish loading model weights: output/ppyoloe_crn_l_alpha_largesize_80e_visdrone/best_model.pdparams\r\n",
      "loading annotations into memory...\r\n",
      "Done (t=0.00s)\r\n",
      "creating index...\r\n",
      "index created!\r\n",
      "loading annotations into memory...\r\n",
      "Done (t=0.00s)\r\n",
      "creating index...\r\n",
      "index created!\r\n",
      "100%|█████████████████████████████████████████████| 1/1 [00:01<00:00,  1.63s/it]\r\n",
      "[03/20 14:53:05] ppdet.metrics.metrics INFO: The bbox result is saved to bbox.json.\r\n",
      "[03/20 14:53:05] ppdet.metrics.metrics INFO: The bbox result is saved to output/bbox.json and do not evaluate the mAP.\r\n",
      "[03/20 14:53:05] ppdet.engine INFO: Detection bbox results save in output/1679146167842.jpg\r\n"
     ]
    }
   ],
   "source": [
    "# 挑一张验证集的图片展示预测效果\n",
    "!python tools/infer.py -c configs/visdrone/ppyoloe_crn_l_alpha_largesize_80e_visdrone.yml -o weights=output/ppyoloe_crn_l_alpha_largesize_80e_visdrone/best_model --infer_img=/home/aistudio/MyDataset/JPEGImages/1679146167842.jpg --save_results=True"
   ]
  },
  {
   "cell_type": "markdown",
   "metadata": {},
   "source": [
    "# 3 模型部署\n",
    "同样是小目标检测，相比于`SNIPER: Efficient Multi-Scale Training`暂不支持部署，PP-YOLOE是可以直接导出部署模型，并在多端高性能部署的：\n",
    "- Paddle Inference [Python](https://gitee.com/paddlepaddle/PaddleDetection/blob/develop/deploy/python) & [C++](https://gitee.com/paddlepaddle/PaddleDetection/blob/develop/deploy/cpp)\n",
    "- [Paddle-TensorRT](https://gitee.com/paddlepaddle/PaddleDetection/blob/develop/deploy/TENSOR_RT.md)\n",
    "- [PaddleServing](https://gitee.com/link?target=https%3A%2F%2Fgithub.com%2FPaddlePaddle%2FServing)\n",
    "- [PaddleSlim模型量化](https://gitee.com/paddlepaddle/PaddleDetection/blob/develop/configs/slim)\n",
    "\n",
    "接下来，我们将介绍PP-YOLOE如何使用Paddle Inference进行部署。\n",
    "## 3.1 导出模型\n"
   ]
  },
  {
   "cell_type": "markdown",
   "metadata": {},
   "source": [
    "10. **导出模型，即可使用FastDeploy进行快速推理**\n",
    "\n",
    "https://github.com/PaddlePaddle/FastDeploy"
   ]
  },
  {
   "cell_type": "code",
   "execution_count": 14,
   "metadata": {
    "execution": {
     "iopub.execute_input": "2023-03-20T06:53:37.339709Z",
     "iopub.status.busy": "2023-03-20T06:53:37.338997Z",
     "iopub.status.idle": "2023-03-20T06:53:55.236155Z",
     "shell.execute_reply": "2023-03-20T06:53:55.234705Z",
     "shell.execute_reply.started": "2023-03-20T06:53:37.339659Z"
    },
    "scrolled": true
   },
   "outputs": [
    {
     "name": "stdout",
     "output_type": "stream",
     "text": [
      "/opt/conda/envs/python35-paddle120-env/lib/python3.7/site-packages/matplotlib/__init__.py:107: DeprecationWarning: Using or importing the ABCs from 'collections' instead of from 'collections.abc' is deprecated, and in 3.8 it will stop working\r\n",
      "  from collections import MutableMapping\r\n",
      "/opt/conda/envs/python35-paddle120-env/lib/python3.7/site-packages/matplotlib/rcsetup.py:20: DeprecationWarning: Using or importing the ABCs from 'collections' instead of from 'collections.abc' is deprecated, and in 3.8 it will stop working\r\n",
      "  from collections import Iterable, Mapping\r\n",
      "/opt/conda/envs/python35-paddle120-env/lib/python3.7/site-packages/matplotlib/colors.py:53: DeprecationWarning: Using or importing the ABCs from 'collections' instead of from 'collections.abc' is deprecated, and in 3.8 it will stop working\r\n",
      "  from collections import Sized\r\n",
      "Warning: import ppdet from source directory without installing, run 'python setup.py install' to install ppdet firstly\r\n",
      "[03/20 14:53:43] ppdet.utils.checkpoint INFO: Finish loading model weights: output/ppyoloe_crn_l_alpha_largesize_80e_visdrone/best_model.pdparams\r\n",
      "loading annotations into memory...\r\n",
      "Done (t=0.00s)\r\n",
      "creating index...\r\n",
      "index created!\r\n",
      "[03/20 14:53:44] ppdet.engine INFO: Export inference config file to output_inference/ppyoloe_crn_l_alpha_largesize_80e_visdrone/infer_cfg.yml\r\n",
      "[03/20 14:53:53] ppdet.engine INFO: Export model and saved in output_inference/ppyoloe_crn_l_alpha_largesize_80e_visdrone\r\n"
     ]
    }
   ],
   "source": [
    "!python tools/export_model.py -c configs/visdrone/ppyoloe_crn_l_alpha_largesize_80e_visdrone.yml -o weights=output/ppyoloe_crn_l_alpha_largesize_80e_visdrone/best_model.pdparams"
   ]
  },
  {
   "cell_type": "markdown",
   "metadata": {},
   "source": []
  }
 ],
 "metadata": {
  "kernelspec": {
   "display_name": "Python 3",
   "language": "python",
   "name": "py35-paddle1.2.0"
  },
  "language_info": {
   "codemirror_mode": {
    "name": "ipython",
    "version": 3
   },
   "file_extension": ".py",
   "mimetype": "text/x-python",
   "name": "python",
   "nbconvert_exporter": "python",
   "pygments_lexer": "ipython3",
   "version": "3.7.4"
  },
  "toc-showtags": false
 },
 "nbformat": 4,
 "nbformat_minor": 4
}
